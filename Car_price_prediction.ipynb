{
 "cells": [
  {
   "cell_type": "code",
   "execution_count": 2,
   "id": "145a3619-4a7b-4c02-9b89-b8020ea900fc",
   "metadata": {},
   "outputs": [],
   "source": [
    "import pandas as pd        \n",
    "import numpy as np         \n",
    "import matplotlib.pyplot as plt\n",
    "import seaborn as sns\n",
    "\n",
    "from sklearn.model_selection import train_test_split\n",
    "from sklearn.linear_model import LinearRegression\n",
    "from sklearn.metrics import mean_squared_error, r2_score\n"
   ]
  },
  {
   "cell_type": "code",
   "execution_count": 7,
   "id": "647e7b00-70c6-498d-aa3a-588ef311e906",
   "metadata": {},
   "outputs": [
    {
     "name": "stdout",
     "output_type": "stream",
     "text": [
      "     Brand                   Model  Price Currency  Year Engine Size  \\\n",
      "0      Kia                      K5  46900      AZN  2025       1.5 L   \n",
      "1      UAZ                   Profi  43500      AZN  2023       2.7 L   \n",
      "2  Changan               Uni-V iDD  17500      USD  2025       1.5 L   \n",
      "3     Ford  Fusion (North America)  19700      AZN  2016       1.5 L   \n",
      "4  Changan                   Uni-Z  34000      AZN  2025       1.5 L   \n",
      "\n",
      "  Horsepower       Fuel Type    Distance       Color                Body Type  \\\n",
      "0        170          Benzin        0 km        Qara                    Sedan   \n",
      "1        150          Benzin        0 km          Ağ      Pikap, ikiqat kabin   \n",
      "2        325  Plug-in Hibrid        0 km  Yaş Asfalt                  Liftbek   \n",
      "3        181          Benzin  175 000 km         Boz                    Sedan   \n",
      "4        215  Plug-in Hibrid    3 293 km  Açıq yaşıl  Offroader / SUV, 5 qapı   \n",
      "\n",
      "   ProdYear Transmission Drive Type   New Seats Owners  \\\n",
      "0      2025        Robot         Ön  Bəli   NaN    NaN   \n",
      "1      2023     Mexaniki        Tam  Bəli     5    NaN   \n",
      "2      2025     Variator         Ön  Bəli     4    NaN   \n",
      "3      2016      Avtomat         Ön  Xeyr     5      0   \n",
      "4      2025     Variator         Ön  Xeyr     5      0   \n",
      "\n",
      "                     Condition       Market  City  \n",
      "0  Vuruğu yoxdur, rənglənməyib  Rəsmi diler  Bakı  \n",
      "1  Vuruğu yoxdur, rənglənməyib          NaN  Bakı  \n",
      "2  Vuruğu yoxdur, rənglənməyib          Çin  Bakı  \n",
      "3  Vuruğu yoxdur, rənglənməyib      Amerika  Bakı  \n",
      "4  Vuruğu yoxdur, rənglənməyib          Çin  Bakı  \n"
     ]
    }
   ],
   "source": [
    "import pandas as pd\n",
    "df = pd.read_csv(\"data.csv\")\n",
    "\n",
    "print(df.head())\n"
   ]
  },
  {
   "cell_type": "code",
   "execution_count": 39,
   "id": "fd87863e-cf5f-44f9-a2ff-0e87f6153499",
   "metadata": {},
   "outputs": [
    {
     "name": "stdout",
     "output_type": "stream",
     "text": [
      "Brand              0\n",
      "Model              0\n",
      "Price              0\n",
      "Currency           0\n",
      "Year               0\n",
      "Engine Size        0\n",
      "Horsepower         0\n",
      "Fuel Type          0\n",
      "Distance           0\n",
      "Color              0\n",
      "Body Type          0\n",
      "ProdYear           0\n",
      "Transmission       0\n",
      "Drive Type         0\n",
      "New                0\n",
      "Seats           1445\n",
      "Owners          4449\n",
      "Condition          0\n",
      "Market          1726\n",
      "City               0\n",
      "dtype: int64\n"
     ]
    },
    {
     "data": {
      "text/html": [
       "<div>\n",
       "<style scoped>\n",
       "    .dataframe tbody tr th:only-of-type {\n",
       "        vertical-align: middle;\n",
       "    }\n",
       "\n",
       "    .dataframe tbody tr th {\n",
       "        vertical-align: top;\n",
       "    }\n",
       "\n",
       "    .dataframe thead th {\n",
       "        text-align: right;\n",
       "    }\n",
       "</style>\n",
       "<table border=\"1\" class=\"dataframe\">\n",
       "  <thead>\n",
       "    <tr style=\"text-align: right;\">\n",
       "      <th></th>\n",
       "      <th>Brand</th>\n",
       "      <th>Model</th>\n",
       "      <th>Price</th>\n",
       "      <th>Currency</th>\n",
       "      <th>Year</th>\n",
       "      <th>Engine Size</th>\n",
       "      <th>Horsepower</th>\n",
       "      <th>Fuel Type</th>\n",
       "      <th>Distance</th>\n",
       "      <th>Color</th>\n",
       "      <th>Body Type</th>\n",
       "      <th>ProdYear</th>\n",
       "      <th>Transmission</th>\n",
       "      <th>Drive Type</th>\n",
       "      <th>New</th>\n",
       "      <th>Seats</th>\n",
       "      <th>Owners</th>\n",
       "      <th>Condition</th>\n",
       "      <th>Market</th>\n",
       "      <th>City</th>\n",
       "    </tr>\n",
       "  </thead>\n",
       "  <tbody>\n",
       "    <tr>\n",
       "      <th>0</th>\n",
       "      <td>Kia</td>\n",
       "      <td>K5</td>\n",
       "      <td>46900.0</td>\n",
       "      <td>AZN</td>\n",
       "      <td>2025</td>\n",
       "      <td>1.5</td>\n",
       "      <td>170</td>\n",
       "      <td>Benzin</td>\n",
       "      <td>0.0</td>\n",
       "      <td>Qara</td>\n",
       "      <td>Sedan</td>\n",
       "      <td>2025</td>\n",
       "      <td>Robot</td>\n",
       "      <td>Ön</td>\n",
       "      <td>1</td>\n",
       "      <td>NaN</td>\n",
       "      <td>NaN</td>\n",
       "      <td>Vuruğu yoxdur, rənglənməyib</td>\n",
       "      <td>Rəsmi diler</td>\n",
       "      <td>Bakı</td>\n",
       "    </tr>\n",
       "    <tr>\n",
       "      <th>1</th>\n",
       "      <td>UAZ</td>\n",
       "      <td>Profi</td>\n",
       "      <td>43500.0</td>\n",
       "      <td>AZN</td>\n",
       "      <td>2023</td>\n",
       "      <td>2.7</td>\n",
       "      <td>150</td>\n",
       "      <td>Benzin</td>\n",
       "      <td>0.0</td>\n",
       "      <td>Ağ</td>\n",
       "      <td>Pikap, ikiqat kabin</td>\n",
       "      <td>2023</td>\n",
       "      <td>Mexaniki</td>\n",
       "      <td>Tam</td>\n",
       "      <td>1</td>\n",
       "      <td>5</td>\n",
       "      <td>NaN</td>\n",
       "      <td>Vuruğu yoxdur, rənglənməyib</td>\n",
       "      <td>NaN</td>\n",
       "      <td>Bakı</td>\n",
       "    </tr>\n",
       "    <tr>\n",
       "      <th>2</th>\n",
       "      <td>Changan</td>\n",
       "      <td>Uni-V iDD</td>\n",
       "      <td>17500.0</td>\n",
       "      <td>USD</td>\n",
       "      <td>2025</td>\n",
       "      <td>1.5</td>\n",
       "      <td>325</td>\n",
       "      <td>Plug-in Hibrid</td>\n",
       "      <td>0.0</td>\n",
       "      <td>Yaş Asfalt</td>\n",
       "      <td>Liftbek</td>\n",
       "      <td>2025</td>\n",
       "      <td>Variator</td>\n",
       "      <td>Ön</td>\n",
       "      <td>1</td>\n",
       "      <td>4</td>\n",
       "      <td>NaN</td>\n",
       "      <td>Vuruğu yoxdur, rənglənməyib</td>\n",
       "      <td>Çin</td>\n",
       "      <td>Bakı</td>\n",
       "    </tr>\n",
       "    <tr>\n",
       "      <th>3</th>\n",
       "      <td>Ford</td>\n",
       "      <td>Fusion (North America)</td>\n",
       "      <td>19700.0</td>\n",
       "      <td>AZN</td>\n",
       "      <td>2016</td>\n",
       "      <td>1.5</td>\n",
       "      <td>181</td>\n",
       "      <td>Benzin</td>\n",
       "      <td>175000.0</td>\n",
       "      <td>Boz</td>\n",
       "      <td>Sedan</td>\n",
       "      <td>2016</td>\n",
       "      <td>Avtomat</td>\n",
       "      <td>Ön</td>\n",
       "      <td>0</td>\n",
       "      <td>5</td>\n",
       "      <td>0</td>\n",
       "      <td>Vuruğu yoxdur, rənglənməyib</td>\n",
       "      <td>Amerika</td>\n",
       "      <td>Bakı</td>\n",
       "    </tr>\n",
       "    <tr>\n",
       "      <th>4</th>\n",
       "      <td>Changan</td>\n",
       "      <td>Uni-Z</td>\n",
       "      <td>34000.0</td>\n",
       "      <td>AZN</td>\n",
       "      <td>2025</td>\n",
       "      <td>1.5</td>\n",
       "      <td>215</td>\n",
       "      <td>Plug-in Hibrid</td>\n",
       "      <td>3293.0</td>\n",
       "      <td>Açıq yaşıl</td>\n",
       "      <td>Offroader / SUV, 5 qapı</td>\n",
       "      <td>2025</td>\n",
       "      <td>Variator</td>\n",
       "      <td>Ön</td>\n",
       "      <td>0</td>\n",
       "      <td>5</td>\n",
       "      <td>0</td>\n",
       "      <td>Vuruğu yoxdur, rənglənməyib</td>\n",
       "      <td>Çin</td>\n",
       "      <td>Bakı</td>\n",
       "    </tr>\n",
       "  </tbody>\n",
       "</table>\n",
       "</div>"
      ],
      "text/plain": [
       "     Brand                   Model    Price Currency  Year  Engine Size  \\\n",
       "0      Kia                      K5  46900.0      AZN  2025          1.5   \n",
       "1      UAZ                   Profi  43500.0      AZN  2023          2.7   \n",
       "2  Changan               Uni-V iDD  17500.0      USD  2025          1.5   \n",
       "3     Ford  Fusion (North America)  19700.0      AZN  2016          1.5   \n",
       "4  Changan                   Uni-Z  34000.0      AZN  2025          1.5   \n",
       "\n",
       "  Horsepower       Fuel Type  Distance       Color                Body Type  \\\n",
       "0        170          Benzin       0.0        Qara                    Sedan   \n",
       "1        150          Benzin       0.0          Ağ      Pikap, ikiqat kabin   \n",
       "2        325  Plug-in Hibrid       0.0  Yaş Asfalt                  Liftbek   \n",
       "3        181          Benzin  175000.0         Boz                    Sedan   \n",
       "4        215  Plug-in Hibrid    3293.0  Açıq yaşıl  Offroader / SUV, 5 qapı   \n",
       "\n",
       "   ProdYear Transmission Drive Type  New Seats Owners  \\\n",
       "0      2025        Robot         Ön    1   NaN    NaN   \n",
       "1      2023     Mexaniki        Tam    1     5    NaN   \n",
       "2      2025     Variator         Ön    1     4    NaN   \n",
       "3      2016      Avtomat         Ön    0     5      0   \n",
       "4      2025     Variator         Ön    0     5      0   \n",
       "\n",
       "                     Condition       Market  City  \n",
       "0  Vuruğu yoxdur, rənglənməyib  Rəsmi diler  Bakı  \n",
       "1  Vuruğu yoxdur, rənglənməyib          NaN  Bakı  \n",
       "2  Vuruğu yoxdur, rənglənməyib          Çin  Bakı  \n",
       "3  Vuruğu yoxdur, rənglənməyib      Amerika  Bakı  \n",
       "4  Vuruğu yoxdur, rənglənməyib          Çin  Bakı  "
      ]
     },
     "execution_count": 39,
     "metadata": {},
     "output_type": "execute_result"
    }
   ],
   "source": [
    "import pandas as pd\n",
    "import numpy as np\n",
    "\n",
    "df = pd.read_csv(\"data.csv\")\n",
    "\n",
    "df['Price'] = df['Price'].astype(str).str.replace(' ', '').str.replace(',', '.').astype(float)\n",
    "\n",
    "df['Distance'] = df['Distance'].astype(str).str.replace('[^0-9]', '', regex=True).astype(float)\n",
    "\n",
    "df['Engine Size'] = df['Engine Size'].str.extract('([0-9]+\\.?[0-9]*)')[0].astype(float)\n",
    "\n",
    "df['New'] = df['New'].map({'Bəli':1, 'Xeyr':0})\n",
    "\n",
    "print(df.isnull().sum())\n",
    "df.head()\n"
   ]
  },
  {
   "cell_type": "code",
   "execution_count": null,
   "id": "49f5d1cf-f932-4505-9d4f-bfce389c85a1",
   "metadata": {},
   "outputs": [],
   "source": []
  },
  {
   "cell_type": "code",
   "execution_count": 48,
   "id": "a96c523f-bc17-45d8-a01d-d773468f07d7",
   "metadata": {},
   "outputs": [
    {
     "name": "stdout",
     "output_type": "stream",
     "text": [
      "Təmizlənmiş dataset 'data_cleaned.csv' adı ilə saxlanıldı.\n"
     ]
    }
   ],
   "source": [
    "import pandas as pd\n",
    "\n",
    "df = pd.read_csv(\"data.csv\")\n",
    "df_clean = df[~df['Engine Size'].str.contains(\"a.g.|hp\", na=False)].copy()  # .copy() ilə yeni DataFrame yaradılır\n",
    "df_clean.loc[:, 'Engine Size Clean'] = df_clean['Engine Size'].str.extract('(\\d+\\.?\\d*)')[0].astype(float)\n",
    "\n",
    "df_clean.loc[df_clean['Engine Size'].str.contains('L', na=False), 'Engine Size Clean'] *= 1000\n",
    "\n",
    "df_clean.to_csv(\"data_cleaned.csv\", index=False)\n",
    "print(\"Təmizlənmiş dataset 'data_cleaned.csv' adı ilə saxlanıldı.\")\n"
   ]
  },
  {
   "cell_type": "code",
   "execution_count": 52,
   "id": "5bb77ef1-d5f4-4c17-84e8-8b267e200c02",
   "metadata": {},
   "outputs": [
    {
     "name": "stdout",
     "output_type": "stream",
     "text": [
      "Brand                   0\n",
      "Model                   0\n",
      "Price                   0\n",
      "Currency                0\n",
      "Year                    0\n",
      "Engine Size             0\n",
      "Horsepower              0\n",
      "Fuel Type               0\n",
      "Distance                0\n",
      "Color                   0\n",
      "Body Type               0\n",
      "ProdYear                0\n",
      "Transmission            0\n",
      "Drive Type              0\n",
      "New                     0\n",
      "Seats                1396\n",
      "Owners               4310\n",
      "Condition               0\n",
      "Market               1678\n",
      "City                    0\n",
      "Engine Size Clean       0\n",
      "dtype: int64\n"
     ]
    }
   ],
   "source": [
    "print(df_clean.isnull().sum())"
   ]
  },
  {
   "cell_type": "code",
   "execution_count": 54,
   "id": "02ac9cce-e774-40ba-961a-78d7df86fcec",
   "metadata": {},
   "outputs": [
    {
     "name": "stdout",
     "output_type": "stream",
     "text": [
      "Dublikat sayısı: 4615\n"
     ]
    }
   ],
   "source": [
    "print(\"Dublikat sayısı:\", df_clean.duplicated().sum())\n"
   ]
  },
  {
   "cell_type": "code",
   "execution_count": 56,
   "id": "337a2ef7-4150-49e3-a936-cc92746b5b8c",
   "metadata": {},
   "outputs": [
    {
     "name": "stdout",
     "output_type": "stream",
     "text": [
      "count     7965.000000\n",
      "mean      2256.057753\n",
      "std       1245.866103\n",
      "min       1000.000000\n",
      "25%       1500.000000\n",
      "50%       2000.000000\n",
      "75%       2400.000000\n",
      "max      13000.000000\n",
      "Name: Engine Size Clean, dtype: float64\n",
      "count      7965.000000\n",
      "mean      31828.354426\n",
      "std       29997.565603\n",
      "min        1500.000000\n",
      "25%       16500.000000\n",
      "50%       25400.000000\n",
      "75%       37000.000000\n",
      "max      440000.000000\n",
      "Name: Price, dtype: float64\n"
     ]
    }
   ],
   "source": [
    "print(df_clean['Engine Size Clean'].describe())\n",
    "print(df_clean['Price'].describe())"
   ]
  },
  {
   "cell_type": "code",
   "execution_count": 58,
   "id": "608350cf-42ae-424a-99cc-ba8578b73349",
   "metadata": {},
   "outputs": [
    {
     "name": "stdout",
     "output_type": "stream",
     "text": [
      "['Kia' 'UAZ' 'Changan' 'Ford' 'Lexus' 'Mercedes' 'Toyota' 'BMW' 'Audi'\n",
      " 'Fiat' 'Isuzu' 'Chevrolet' 'Hyundai' 'Voyah' 'KamAz' 'BYD' 'Nissan'\n",
      " 'LADA' 'Opel' 'Bentley' 'Land' 'Baic' 'JETOUR' 'MAN' 'JAC' 'Maserati'\n",
      " 'JMC' 'Jeep' 'Wuling' 'GWM' 'Denza' 'GAC' 'Avatr' 'Geely' 'Mitsubishi'\n",
      " 'Daewoo' 'GAZ' 'Lincoln' 'Mazda' 'Suzuki' 'DFSK' 'Dodge' 'Subaru'\n",
      " 'Volkswagen' 'Lynk' 'Khazar' 'Honda' 'DAF' 'Skoda' 'Li' 'Cadillac' 'PAZ'\n",
      " 'Leapmotor' 'Volvo' 'Porsche' 'Yutong' 'Renault' 'Mercedes-Maybach' 'MG'\n",
      " 'KAIYI' 'Ravon' 'Chery' 'Alfa' 'Iveco' 'Haval' 'Hummer' 'FAW' 'SEAT' 'KG'\n",
      " 'Tofas' 'Infiniti' 'Seres' 'DongFeng' 'Genesis' 'Saipa' 'HOWO' 'Iran'\n",
      " 'Mini' 'Soueast' 'Abarth' 'Peugeot' 'Ssang' 'Skywell' 'Bestune'\n",
      " 'Forthing' 'ROX' 'MAZ' 'Golden' 'Scania' 'VGV' 'Jaguar' 'Foton']\n"
     ]
    }
   ],
   "source": [
    "print(df_clean['Brand'].unique())"
   ]
  },
  {
   "cell_type": "code",
   "execution_count": 60,
   "id": "84ca4b32-0fa2-4381-a06a-4e4cbf69bfd3",
   "metadata": {},
   "outputs": [
    {
     "data": {
      "image/png": "[encoded data removed]",
      "text/plain": [
       "<Figure size 640x480 with 1 Axes>"
      ]
     },
     "metadata": {},
     "output_type": "display_data"
    },
    {
     "data": {
      "image/png": "[encoded data removed]",
      "text/plain": [
       "<Figure size 640x480 with 1 Axes>"
      ]
     },
     "metadata": {},
     "output_type": "display_data"
    }
   ],
   "source": [
    "import matplotlib.pyplot as plt\n",
    "\n",
    "df_clean['Engine Size Clean'].hist(bins=50)\n",
    "plt.show()\n",
    "\n",
    "df_clean['Price'].hist(bins=50)\n",
    "plt.show()\n"
   ]
  },
  {
   "cell_type": "code",
   "execution_count": 64,
   "id": "c31b5662-c962-45bb-bb7d-63d4a9ffedf2",
   "metadata": {},
   "outputs": [],
   "source": [
    "df_clean['Market'].fillna(\"Unknown\", inplace=True)"
   ]
  },
  {
   "cell_type": "code",
   "execution_count": 74,
   "id": "4ccac74b-d19a-47df-ad35-5c4665a2317d",
   "metadata": {},
   "outputs": [],
   "source": [
    "df_clean['Seats'] = df_clean['Seats'].astype(str)\n"
   ]
  },
  {
   "cell_type": "code",
   "execution_count": 76,
   "id": "b8cdebd7-fbd6-48e8-8eab-8a6e8c1d22f8",
   "metadata": {},
   "outputs": [],
   "source": [
    "df_clean['Seats'] = df_clean['Seats'].str.replace('+', '', regex=False)\n"
   ]
  },
  {
   "cell_type": "code",
   "execution_count": 78,
   "id": "892d1673-716c-43ba-a628-a05fddba87b7",
   "metadata": {},
   "outputs": [],
   "source": [
    "df_clean['Seats'] = df_clean['Seats'].astype(float)\n"
   ]
  },
  {
   "cell_type": "code",
   "execution_count": 80,
   "id": "0bf526ad-b517-4240-b0b6-295221f0f82a",
   "metadata": {},
   "outputs": [
    {
     "name": "stdout",
     "output_type": "stream",
     "text": [
      "Təmizlənmiş dataset 'data_cleaned_final.csv' adı ilə saxlanıldı.\n"
     ]
    }
   ],
   "source": [
    "import pandas as pd\n",
    "\n",
    "df = pd.read_csv(\"data.csv\")\n",
    "\n",
    "df_clean = df[~df['Engine Size'].astype(str).str.contains(\"a.g.|hp\", na=False)].copy()\n",
    "\n",
    "df_clean.loc[:, 'Engine Size Clean'] = df_clean['Engine Size'].str.extract('(\\d+\\.?\\d*)')[0].astype(float)\n",
    "\n",
    "df_clean.loc[df_clean['Engine Size'].str.contains('L', na=False), 'Engine Size Clean'] *= 1000\n",
    "\n",
    "df_clean['Seats'] = df_clean['Seats'].astype(str).str.replace('+', '', regex=False)\n",
    "df_clean['Seats'] = pd.to_numeric(df_clean['Seats'], errors='coerce')\n",
    "\n",
    "df_clean['Seats'].fillna(df_clean['Seats'].median(), inplace=True)\n",
    "\n",
    "df_clean['Market'].fillna(\"Unknown\", inplace=True)\n",
    "\n",
    "df_clean.drop(columns=['Owners'], inplace=True)\n",
    "\n",
    "df_clean.to_csv(\"data_cleaned_final.csv\", index=False)\n",
    "print(\"Təmizlənmiş dataset 'data_cleaned_final.csv' adı ilə saxlanıldı.\")\n"
   ]
  },
  {
   "cell_type": "code",
   "execution_count": 85,
   "id": "46e7876d-e337-4832-9066-4e56c62192a8",
   "metadata": {},
   "outputs": [
    {
     "name": "stdout",
     "output_type": "stream",
     "text": [
      "Dublikat sayısı: 4622\n"
     ]
    }
   ],
   "source": [
    "print(\"Dublikat sayısı:\", df_clean.duplicated().sum())"
   ]
  },
  {
   "cell_type": "code",
   "execution_count": null,
   "id": "2b74b58b-a5c9-43e2-876f-4f99ef451d70",
   "metadata": {},
   "outputs": [],
   "source": [
    "# Dublikat olan satırların index-ləri\n",
    "print(df_clean[df_clean.duplicated(keep=False)].index)"
   ]
  },
  {
   "cell_type": "code",
   "execution_count": 89,
   "id": "83699aab-99c6-4448-bfa7-18db0f72ea24",
   "metadata": {},
   "outputs": [
    {
     "name": "stdout",
     "output_type": "stream",
     "text": [
      "         Brand                   Model  Price Currency  Year Engine Size  \\\n",
      "0          Kia                      K5  46900      AZN  2025       1.5 L   \n",
      "5        Lexus                 ES 300h  48900      USD  2024       2.5 L   \n",
      "7     Mercedes                    Vito  49000      AZN  2017       2.2 L   \n",
      "8         Ford  Fusion (North America)  19500      AZN  2019       1.5 L   \n",
      "9       Toyota                   Camry  23500      USD  2018       2.5 L   \n",
      "...        ...                     ...    ...      ...   ...         ...   \n",
      "8225    Nissan                  Altima  20900      AZN  2014       2.5 L   \n",
      "8226   Hyundai                 Elantra  20000      AZN  2017       2.0 L   \n",
      "8227    Nissan                    Note  15700      AZN  2015       1.2 L   \n",
      "8228      Jeep          Grand Cherokee  29900      AZN  2012       3.6 L   \n",
      "8229   Porsche                 Cayenne  53000      AZN  2017       3.6 L   \n",
      "\n",
      "     Horsepower Fuel Type    Distance   Color                Body Type  \\\n",
      "0           170    Benzin        0 km    Qara                    Sedan   \n",
      "5           215    Hibrid   12 000 km    Qara                    Sedan   \n",
      "7           163     Dizel  250 000 km      Ağ                  Minivan   \n",
      "8           184    Benzin  163 000 km     Göy                    Sedan   \n",
      "9           181    Benzin  120 000 km  Gümüşü                    Sedan   \n",
      "...         ...       ...         ...     ...                      ...   \n",
      "8225        182    Benzin  140 000 km     Bej                    Sedan   \n",
      "8226        150    Benzin  149 186 km      Ağ                    Sedan   \n",
      "8227         70    Benzin   67 034 km     Bej          Hetçbek, 5 qapı   \n",
      "8228        286    Benzin  156 000 km    Qara  Offroader / SUV, 5 qapı   \n",
      "8229        420    Benzin  145 000 km      Ağ  Offroader / SUV, 5 qapı   \n",
      "\n",
      "      ProdYear Transmission Drive Type   New  Seats  \\\n",
      "0         2025        Robot         Ön  Bəli    5.0   \n",
      "5         2024     Variator         Ön  Xeyr    5.0   \n",
      "7         2017      Avtomat       Arxa  Xeyr    8.0   \n",
      "8         2019      Avtomat         Ön  Xeyr    5.0   \n",
      "9         2018      Avtomat         Ön  Xeyr    5.0   \n",
      "...        ...          ...        ...   ...    ...   \n",
      "8225      2014     Variator         Ön  Xeyr    5.0   \n",
      "8226      2017      Avtomat         Ön  Xeyr    5.0   \n",
      "8227      2015     Variator         Ön  Xeyr    5.0   \n",
      "8228      2012      Avtomat        Tam  Xeyr    5.0   \n",
      "8229      2017      Avtomat        Tam  Xeyr    5.0   \n",
      "\n",
      "                        Condition       Market   City  Engine Size Clean  \n",
      "0     Vuruğu yoxdur, rənglənməyib  Rəsmi diler   Bakı             1500.0  \n",
      "5     Vuruğu yoxdur, rənglənməyib       Avropa   Bakı             2500.0  \n",
      "7     Vuruğu yoxdur, rənglənməyib       Avropa   Bakı             2200.0  \n",
      "8     Vuruğu yoxdur, rənglənməyib      Amerika   Bakı             1500.0  \n",
      "9     Vuruğu yoxdur, rənglənməyib  Rəsmi diler  Gəncə             2500.0  \n",
      "...                           ...          ...    ...                ...  \n",
      "8225  Vuruğu yoxdur, rənglənməyib      Unknown   Bakı             2500.0  \n",
      "8226  Vuruğu yoxdur, rənglənməyib      Unknown   Bakı             2000.0  \n",
      "8227  Vuruğu yoxdur, rənglənməyib     Yaponiya   Bakı             1200.0  \n",
      "8228  Vuruğu yoxdur, rənglənməyib  Rəsmi diler   Bakı             3600.0  \n",
      "8229  Vuruğu yoxdur, rənglənməyib  Rəsmi diler   Bakı             3600.0  \n",
      "\n",
      "[6649 rows x 20 columns]\n"
     ]
    }
   ],
   "source": [
    "duplicate_rows = df_clean[df_clean.duplicated(keep=False)]\n",
    "print(duplicate_rows)\n"
   ]
  },
  {
   "cell_type": "code",
   "execution_count": 93,
   "id": "88ebb8c6-2e98-44e6-94aa-6dfe025d2f62",
   "metadata": {},
   "outputs": [
    {
     "name": "stdout",
     "output_type": "stream",
     "text": [
      "       Brand         Model   Price Currency  Year Engine Size Horsepower  \\\n",
      "0     Abarth    124 Spider   17000      USD  2017       1.4 L        170   \n",
      "2       Alfa  Romeo Giulia   46500      USD  2022       2.0 L        280   \n",
      "3       Audi            A4    9500      AZN  2007       2.0 L        200   \n",
      "4       Audi            A4   14500      USD  2013       2.0 L        211   \n",
      "5       Audi            A4   20500      USD  2016       2.0 L        249   \n",
      "...      ...           ...     ...      ...   ...         ...        ...   \n",
      "3337   Voyah          Free   35900      USD  2025       1.5 L        490   \n",
      "3338   Voyah          Free   36400      USD  2025       1.5 L        490   \n",
      "3339   Voyah          Free   38000      USD  2025       1.5 L        490   \n",
      "3340   Voyah          Free   38000      USD  2025       1.5 L        490   \n",
      "3342  Yutong       ZK6128H  360000      AZN  2025       9.7 L        276   \n",
      "\n",
      "           Fuel Type    Distance       Color  ... ProdYear  Transmission  \\\n",
      "0             Benzin   75 400 km          Ağ  ...     2017       Avtomat   \n",
      "2             Benzin        0 km        Qara  ...     2022       Avtomat   \n",
      "3             Benzin  230 000 km          Ağ  ...     2007       Avtomat   \n",
      "4             Benzin  142 000 km  Yaş Asfalt  ...     2013       Avtomat   \n",
      "5             Benzin   63 000 km          Ağ  ...     2016       Avtomat   \n",
      "...              ...         ...         ...  ...      ...           ...   \n",
      "3337  Plug-in Hibrid        0 km  Yaş Asfalt  ...     2025      Reduktor   \n",
      "3338  Plug-in Hibrid        0 km        Qara  ...     2025      Reduktor   \n",
      "3339  Plug-in Hibrid        0 km        Qara  ...     2025      Reduktor   \n",
      "3340  Plug-in Hibrid        0 km       Yaşıl  ...     2025      Reduktor   \n",
      "3342           Dizel        0 km          Ağ  ...     2025      Mexaniki   \n",
      "\n",
      "     Drive Type   New Seats                    Condition       Market  City  \\\n",
      "0          Arxa  Xeyr   5.0  Vuruğu yoxdur, rənglənməyib      Unknown  Bakı   \n",
      "2           Tam  Bəli   4.0  Vuruğu yoxdur, rənglənməyib      Unknown  Bakı   \n",
      "3            Ön  Xeyr   5.0  Vuruğu yoxdur, rənglənməyib  Rəsmi diler  Bakı   \n",
      "4           Tam  Xeyr   5.0     Vuruğu yoxdur, rənglənib      Amerika  Bakı   \n",
      "5            Ön  Xeyr   5.0  Vuruğu yoxdur, rənglənməyib  Rəsmi diler  Bakı   \n",
      "...         ...   ...   ...                          ...          ...   ...   \n",
      "3337        Tam  Bəli   5.0  Vuruğu yoxdur, rənglənməyib      Unknown  Bakı   \n",
      "3338        Tam  Bəli   5.0  Vuruğu yoxdur, rənglənməyib          Çin  Bakı   \n",
      "3339        Tam  Bəli   5.0  Vuruğu yoxdur, rənglənməyib       Avropa  Bakı   \n",
      "3340        Tam  Bəli   5.0  Vuruğu yoxdur, rənglənməyib  Rəsmi diler  Bakı   \n",
      "3342       Arxa  Bəli   5.0  Vuruğu yoxdur, rənglənməyib          Çin  Bakı   \n",
      "\n",
      "     Engine Size Clean  Count  \n",
      "0               1400.0      2  \n",
      "2               2000.0      2  \n",
      "3               2000.0      2  \n",
      "4               2000.0      5  \n",
      "5               2000.0      9  \n",
      "...                ...    ...  \n",
      "3337            1500.0      3  \n",
      "3338            1500.0      3  \n",
      "3339            1500.0      6  \n",
      "3340            1500.0      4  \n",
      "3342            9700.0      3  \n",
      "\n",
      "[2027 rows x 21 columns]\n"
     ]
    }
   ],
   "source": [
    "duplicate_counts = df_clean.groupby(list(df_clean.columns)).size().reset_index(name='Count')\n",
    "duplicates_only = duplicate_counts[duplicate_counts['Count'] > 1]\n",
    "print(duplicates_only)\n"
   ]
  },
  {
   "cell_type": "code",
   "execution_count": 95,
   "id": "f54b108c-4c72-4a55-b715-c2b07c376cc4",
   "metadata": {},
   "outputs": [
    {
     "name": "stdout",
     "output_type": "stream",
     "text": [
      "Dublikat satır sayı: 6649\n",
      "Bütün dublikatlar 'duplicates.csv' faylına yazıldı.\n",
      "Təmizlənmiş dataset 'data_cleaned_final.csv' adı ilə saxlanıldı.\n"
     ]
    }
   ],
   "source": [
    "import pandas as pd\n",
    "\n",
    "df = pd.read_csv(\"data.csv\")\n",
    "df_clean = df[~df['Engine Size'].astype(str).str.contains(\"a.g.|hp\", na=False)].copy()\n",
    "df_clean.loc[:, 'Engine Size Clean'] = df_clean['Engine Size'].str.extract('(\\d+\\.?\\d*)')[0].astype(float)\n",
    "df_clean.loc[df_clean['Engine Size'].str.contains('L', na=False), 'Engine Size Clean'] *= 1000\n",
    "\n",
    "df_clean['Seats'] = df_clean['Seats'].astype(str).str.replace('+', '', regex=False)\n",
    "df_clean['Seats'] = pd.to_numeric(df_clean['Seats'], errors='coerce')\n",
    "df_clean['Seats'].fillna(df_clean['Seats'].median(), inplace=True)\n",
    "\n",
    "df_clean['Market'].fillna(\"Unknown\", inplace=True)\n",
    "df_clean.drop(columns=['Owners'], inplace=True)\n",
    "\n",
    "duplicate_rows = df_clean[df_clean.duplicated(keep=False)]\n",
    "print(f\"Dublikat satır sayı: {len(duplicate_rows)}\")\n",
    "\n",
    "duplicate_rows.to_csv(\"duplicates.csv\", index=False)\n",
    "print(\"Bütün dublikatlar 'duplicates.csv' faylına yazıldı.\")\n",
    "\n",
    "df_clean = df_clean.drop_duplicates()\n",
    "df_clean.to_csv(\"data_cleaned_final.csv\", index=False)\n",
    "print(\"Təmizlənmiş dataset 'data_cleaned_final.csv' adı ilə saxlanıldı.\")\n"
   ]
  },
  {
   "cell_type": "code",
   "execution_count": 97,
   "id": "2b26a67e-d057-40fb-9017-73ba4a5b19d4",
   "metadata": {},
   "outputs": [
    {
     "name": "stdout",
     "output_type": "stream",
     "text": [
      "Dataset ölçüləri (satır, sütun): (3343, 20)\n",
      "\n",
      "Boş hüceyrələr hər sütunda:\n",
      " Brand                0\n",
      "Model                0\n",
      "Price                0\n",
      "Currency             0\n",
      "Year                 0\n",
      "Engine Size          0\n",
      "Horsepower           0\n",
      "Fuel Type            0\n",
      "Distance             0\n",
      "Color                0\n",
      "Body Type            0\n",
      "ProdYear             0\n",
      "Transmission         0\n",
      "Drive Type           0\n",
      "New                  0\n",
      "Seats                0\n",
      "Condition            0\n",
      "Market               0\n",
      "City                 0\n",
      "Engine Size Clean    0\n",
      "dtype: int64\n",
      "\n",
      "Dublikat sayısı: 0\n",
      "\n",
      "Rəqəmli sütunların statistikası:\n",
      "                Price  Engine Size Clean        Seats\n",
      "count    3343.000000        3343.000000  3343.000000\n",
      "mean    32670.682022        2258.510320     5.119055\n",
      "std     31040.030516        1271.975635     0.796201\n",
      "min      1500.000000        1000.000000     2.000000\n",
      "25%     17000.000000        1500.000000     5.000000\n",
      "50%     25800.000000        2000.000000     5.000000\n",
      "75%     38000.000000        2400.000000     5.000000\n",
      "max    440000.000000       13000.000000     8.000000\n",
      "\n",
      "Brand üzrə ən çox təkrarlanan 10 dəyər:\n",
      " Brand\n",
      "Toyota       411\n",
      "Hyundai      410\n",
      "Mercedes     385\n",
      "Kia          304\n",
      "BMW          212\n",
      "Changan      198\n",
      "Ford         153\n",
      "Land         150\n",
      "Chevrolet    138\n",
      "LADA         113\n",
      "Name: count, dtype: int64\n",
      "\n",
      "Model üzrə ən çox təkrarlanan 10 dəyər:\n",
      " Model\n",
      "Elantra                   116\n",
      "Sorento                   112\n",
      "Rover Range Rover          86\n",
      "Santa Fe                   82\n",
      "Prius                      78\n",
      "Sonata                     74\n",
      "Camry                      71\n",
      "Transit                    66\n",
      "Fusion (North America)     62\n",
      "Cruze                      56\n",
      "Name: count, dtype: int64\n",
      "\n",
      "Fuel Type üzrə ən çox təkrarlanan 10 dəyər:\n",
      " Fuel Type\n",
      "Benzin            1891\n",
      "Dizel              671\n",
      "Hibrid             391\n",
      "Plug-in Hibrid     385\n",
      "Dizel-Hibrid         4\n",
      "Qaz                  1\n",
      "Name: count, dtype: int64\n",
      "\n",
      "Body Type üzrə ən çox təkrarlanan 10 dəyər:\n",
      " Body Type\n",
      "Sedan                      1336\n",
      "Offroader / SUV, 5 qapı    1267\n",
      "Hetçbek, 5 qapı             155\n",
      "Liftbek                     124\n",
      "Furqon                       79\n",
      "Universal, 5 qapı            76\n",
      "Yük maşını                   67\n",
      "Minivan                      47\n",
      "Pikap, ikiqat kabin          42\n",
      "Offroader / SUV, 3 qapı      34\n",
      "Name: count, dtype: int64\n",
      "\n",
      "Transmission üzrə ən çox təkrarlanan 10 dəyər:\n",
      " Transmission\n",
      "Avtomat     2060\n",
      "Variator     645\n",
      "Mexaniki     460\n",
      "Robot        107\n",
      "Reduktor      71\n",
      "Name: count, dtype: int64\n",
      "\n",
      "Drive Type üzrə ən çox təkrarlanan 10 dəyər:\n",
      " Drive Type\n",
      "Ön      1802\n",
      "Tam      895\n",
      "Arxa     646\n",
      "Name: count, dtype: int64\n",
      "\n",
      "City üzrə ən çox təkrarlanan 10 dəyər:\n",
      " City\n",
      "Bakı          2916\n",
      "Sumqayıt       143\n",
      "Gəncə           70\n",
      "Lənkəran        19\n",
      "Xırdalan        17\n",
      "Mingəçevir      17\n",
      "Masallı         10\n",
      "Tovuz            9\n",
      "Zaqatala         7\n",
      "Şəki             7\n",
      "Name: count, dtype: int64\n",
      "\n",
      "Market üzrə ən çox təkrarlanan 10 dəyər:\n",
      " Market\n",
      "Unknown        696\n",
      "Rəsmi diler    674\n",
      "Amerika        666\n",
      "Avropa         502\n",
      "Koreya         275\n",
      "Çin            260\n",
      "Digər           98\n",
      "Rusiya          77\n",
      "Yaponiya        65\n",
      "Dubay           30\n",
      "Name: count, dtype: int64\n"
     ]
    }
   ],
   "source": [
    "import pandas as pd\n",
    "df_clean = pd.read_csv(\"data_cleaned_final.csv\")\n",
    "print(\"Dataset ölçüləri (satır, sütun):\", df_clean.shape)\n",
    "\n",
    "print(\"\\nBoş hüceyrələr hər sütunda:\\n\", df_clean.isnull().sum())\n",
    "print(\"\\nDublikat sayısı:\", df_clean.duplicated().sum())\n",
    "\n",
    "numeric_cols = ['Price', 'Engine Size Clean', 'Seats']\n",
    "print(\"\\nRəqəmli sütunların statistikası:\\n\", df_clean[numeric_cols].describe())\n",
    "\n",
    "categorical_cols = ['Brand', 'Model', 'Fuel Type', 'Body Type', 'Transmission', 'Drive Type', 'City', 'Market']\n",
    "for col in categorical_cols:\n",
    "    print(f\"\\n{col} üzrə ən çox təkrarlanan 10 dəyər:\\n\", df_clean[col].value_counts().head(10))\n"
   ]
  },
  {
   "cell_type": "code",
   "execution_count": 99,
   "id": "15f7941e-9f1b-4500-9665-fc4abf0adb0c",
   "metadata": {},
   "outputs": [
    {
     "name": "stdout",
     "output_type": "stream",
     "text": [
      "Brand payı:\n",
      " Brand\n",
      "Toyota       411\n",
      "Hyundai      410\n",
      "Mercedes     385\n",
      "Kia          304\n",
      "BMW          212\n",
      "Changan      198\n",
      "Ford         153\n",
      "Land         150\n",
      "Chevrolet    138\n",
      "LADA         113\n",
      "Name: count, dtype: int64\n"
     ]
    },
    {
     "data": {
      "image/png": "[encoded data removed]",
      "text/plain": [
       "<Figure size 1000x500 with 1 Axes>"
      ]
     },
     "metadata": {},
     "output_type": "display_data"
    },
    {
     "name": "stdout",
     "output_type": "stream",
     "text": [
      "\n",
      "Model payı:\n",
      " Model\n",
      "Elantra                   116\n",
      "Sorento                   112\n",
      "Rover Range Rover          86\n",
      "Santa Fe                   82\n",
      "Prius                      78\n",
      "Sonata                     74\n",
      "Camry                      71\n",
      "Transit                    66\n",
      "Fusion (North America)     62\n",
      "Cruze                      56\n",
      "Name: count, dtype: int64\n"
     ]
    },
    {
     "data": {
      "image/png": "[encoded data removed]",
      "text/plain": [
       "<Figure size 1000x500 with 1 Axes>"
      ]
     },
     "metadata": {},
     "output_type": "display_data"
    },
    {
     "name": "stdout",
     "output_type": "stream",
     "text": [
      "\n",
      "Fuel Type payı:\n",
      " Fuel Type\n",
      "Benzin            1891\n",
      "Dizel              671\n",
      "Hibrid             391\n",
      "Plug-in Hibrid     385\n",
      "Dizel-Hibrid         4\n",
      "Qaz                  1\n",
      "Name: count, dtype: int64\n"
     ]
    },
    {
     "data": {
      "image/png": "[encoded data removed]",
      "text/plain": [
       "<Figure size 600x600 with 1 Axes>"
      ]
     },
     "metadata": {},
     "output_type": "display_data"
    },
    {
     "name": "stdout",
     "output_type": "stream",
     "text": [
      "\n",
      "Body Type payı:\n",
      " Body Type\n",
      "Sedan                      1336\n",
      "Offroader / SUV, 5 qapı    1267\n",
      "Hetçbek, 5 qapı             155\n",
      "Liftbek                     124\n",
      "Furqon                       79\n",
      "Universal, 5 qapı            76\n",
      "Yük maşını                   67\n",
      "Minivan                      47\n",
      "Pikap, ikiqat kabin          42\n",
      "Offroader / SUV, 3 qapı      34\n",
      "Name: count, dtype: int64\n"
     ]
    },
    {
     "data": {
      "image/png": "[encoded data removed]",
      "text/plain": [
       "<Figure size 1000x500 with 1 Axes>"
      ]
     },
     "metadata": {},
     "output_type": "display_data"
    }
   ],
   "source": [
    "import pandas as pd\n",
    "import matplotlib.pyplot as plt\n",
    "df_clean = pd.read_csv(\"data_cleaned_final.csv\")\n",
    "\n",
    "# 1 Brand üzrə bazar payı\n",
    "brand_counts = df_clean['Brand'].value_counts()\n",
    "print(\"Brand payı:\\n\", brand_counts.head(10))\n",
    "\n",
    "# Bar chart ilə vizualizasiya\n",
    "brand_counts.head(10).plot(kind='bar', figsize=(10,5), title=\"Ən populyar 10 Brand\")\n",
    "plt.ylabel(\"Satış sayı\")\n",
    "plt.show()\n",
    "\n",
    "# 2 Model üzrə pay\n",
    "model_counts = df_clean['Model'].value_counts()\n",
    "print(\"\\nModel payı:\\n\", model_counts.head(10))\n",
    "\n",
    "model_counts.head(10).plot(kind='bar', figsize=(10,5), title=\"Ən populyar 10 Model\")\n",
    "plt.ylabel(\"Satış sayı\")\n",
    "plt.show()\n",
    "\n",
    "# 3 Fuel Type üzrə pay\n",
    "fuel_counts = df_clean['Fuel Type'].value_counts()\n",
    "print(\"\\nFuel Type payı:\\n\", fuel_counts)\n",
    "\n",
    "fuel_counts.plot(kind='pie', figsize=(6,6), autopct='%1.1f%%', title=\"Fuel Type payı\")\n",
    "plt.ylabel(\"\")\n",
    "plt.show()\n",
    "\n",
    "# 4️ Body Type üzrə \n",
    "body_counts = df_clean['Body Type'].value_counts()\n",
    "print(\"\\nBody Type payı:\\n\", body_counts.head(10))\n",
    "\n",
    "body_counts.head(10).plot(kind='bar', figsize=(10,5), title=\"Ən populyar 10 Body Type\")\n",
    "plt.ylabel(\"Satış sayı\")\n",
    "plt.show()\n"
   ]
  }
 ],
 "metadata": {
  "kernelspec": {
   "display_name": "Python [conda env:base] *",
   "language": "python",
   "name": "conda-base-py"
  },
  "language_info": {
   "codemirror_mode": {
    "name": "ipython",
    "version": 3
   },
   "file_extension": ".py",
   "mimetype": "text/x-python",
   "name": "python",
   "nbconvert_exporter": "python",
   "pygments_lexer": "ipython3",
   "version": "3.11.7"
  }
 },
 "nbformat": 4,
 "nbformat_minor": 5
}
